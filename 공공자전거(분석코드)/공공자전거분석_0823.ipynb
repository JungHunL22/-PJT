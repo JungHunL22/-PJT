{
 "cells": [
  {
   "cell_type": "code",
   "execution_count": 1,
   "id": "cacea9b9",
   "metadata": {},
   "outputs": [],
   "source": [
    "import pandas as pd\n",
    "import numpy as np\n",
    "from glob import glob\n",
    "import seaborn as sns\n",
    "import matplotlib.pyplot as plt #그래프 패키지 모듈 등록\n",
    "%matplotlib inline \n",
    "#그래프는 show()함수를 통해서 독립창에서 실행되는 것이 원칙\n",
    "#그래프를 콘솔에서 바로 작도되록 하는 설정\n",
    "import matplotlib.pyplot as plt #그래프 패키지 모듈 등록\n",
    "%matplotlib inline \n",
    "#그래프는 show()함수를 통해서 독립창에서 실행되는 것이 원칙\n",
    "#그래프를 콘솔에서 바로 작도되록 하는 설정\n",
    "from IPython.core.interactiveshell import InteractiveShell\n",
    "InteractiveShell.ast_node_interactivity=\"all\""
   ]
  },
  {
   "cell_type": "code",
   "execution_count": 2,
   "id": "24d46b48",
   "metadata": {},
   "outputs": [],
   "source": [
    "# 한글 문제\n",
    "# matplotlit의 기본 폰트에서 한글 지원되지 않기 때문에\n",
    "# matplotlib의 폰트 변경 필요\n",
    "import platform\n",
    "\n",
    "from matplotlib import font_manager, rc\n",
    "plt.rcParams['axes.unicode_minus'] = False\n",
    "\n",
    "if platform.system() == 'Darwin':  # 맥OS \n",
    "    rc('font', family='AppleGothic')\n",
    "elif platform.system() == 'Windows':  # 윈도우\n",
    "    path = \"c:/Windows/Fonts/malgun.ttf\"\n",
    "    font_name = font_manager.FontProperties(fname=path).get_name()\n",
    "    rc('font', family=font_name)\n",
    "else:\n",
    "    print('Unknown system...  sorry~~~')"
   ]
  },
  {
   "cell_type": "code",
   "execution_count": null,
   "id": "4e851d60",
   "metadata": {},
   "outputs": [],
   "source": [
    "# 모든데이터 출력\n",
    "#pd.set_option('display.max_rows',None)"
   ]
  },
  {
   "cell_type": "code",
   "execution_count": 163,
   "id": "1a6dc6d3",
   "metadata": {
    "scrolled": false
   },
   "outputs": [],
   "source": [
    "# df=glob('data/서울특별시 공공자전거 이용정보(시간대별)_20*.csv')\n",
    "# df_total=[]\n",
    "# for i in df:\n",
    "#     df_total.append(pd.read_csv(i,encoding='utf-8'))\n",
    "\n"
   ]
  },
  {
   "cell_type": "code",
   "execution_count": 189,
   "id": "8888d5a2",
   "metadata": {},
   "outputs": [],
   "source": [
    "# test=pd.concat(df_total,axis=0)"
   ]
  },
  {
   "cell_type": "code",
   "execution_count": 169,
   "id": "7fea3f15",
   "metadata": {
    "scrolled": true
   },
   "outputs": [],
   "source": [
    "# test.to_csv('data/total.csv')"
   ]
  },
  {
   "cell_type": "markdown",
   "id": "f293d308",
   "metadata": {},
   "source": [
    "# 성별/연령"
   ]
  },
  {
   "cell_type": "markdown",
   "id": "030e3f07",
   "metadata": {},
   "source": [
    "## 전처리"
   ]
  },
  {
   "cell_type": "code",
   "execution_count": 114,
   "id": "269241a1",
   "metadata": {},
   "outputs": [],
   "source": [
    "test=pd.read_csv('data/total_1.csv',index_col=0)"
   ]
  },
  {
   "cell_type": "code",
   "execution_count": 115,
   "id": "95fe9481",
   "metadata": {},
   "outputs": [
    {
     "data": {
      "text/html": [
       "<div>\n",
       "<style scoped>\n",
       "    .dataframe tbody tr th:only-of-type {\n",
       "        vertical-align: middle;\n",
       "    }\n",
       "\n",
       "    .dataframe tbody tr th {\n",
       "        vertical-align: top;\n",
       "    }\n",
       "\n",
       "    .dataframe thead th {\n",
       "        text-align: right;\n",
       "    }\n",
       "</style>\n",
       "<table border=\"1\" class=\"dataframe\">\n",
       "  <thead>\n",
       "    <tr style=\"text-align: right;\">\n",
       "      <th></th>\n",
       "      <th>대여시간</th>\n",
       "      <th>연령대코드</th>\n",
       "      <th>이용건수</th>\n",
       "    </tr>\n",
       "    <tr>\n",
       "      <th>성별</th>\n",
       "      <th></th>\n",
       "      <th></th>\n",
       "      <th></th>\n",
       "    </tr>\n",
       "  </thead>\n",
       "  <tbody>\n",
       "    <tr>\n",
       "      <th>F</th>\n",
       "      <td>3733586</td>\n",
       "      <td>3733586</td>\n",
       "      <td>3733586</td>\n",
       "    </tr>\n",
       "    <tr>\n",
       "      <th>M</th>\n",
       "      <td>5788591</td>\n",
       "      <td>5788591</td>\n",
       "      <td>5788591</td>\n",
       "    </tr>\n",
       "    <tr>\n",
       "      <th>f</th>\n",
       "      <td>3047</td>\n",
       "      <td>3047</td>\n",
       "      <td>3047</td>\n",
       "    </tr>\n",
       "    <tr>\n",
       "      <th>m</th>\n",
       "      <td>4823</td>\n",
       "      <td>4823</td>\n",
       "      <td>4823</td>\n",
       "    </tr>\n",
       "  </tbody>\n",
       "</table>\n",
       "</div>"
      ],
      "text/plain": [
       "       대여시간    연령대코드     이용건수\n",
       "성별                           \n",
       "F   3733586  3733586  3733586\n",
       "M   5788591  5788591  5788591\n",
       "f      3047     3047     3047\n",
       "m      4823     4823     4823"
      ]
     },
     "execution_count": 115,
     "metadata": {},
     "output_type": "execute_result"
    }
   ],
   "source": [
    "pd.pivot_table(test,index='성별',aggfunc='count')"
   ]
  },
  {
   "cell_type": "code",
   "execution_count": null,
   "id": "127fb20c",
   "metadata": {},
   "outputs": [],
   "source": [
    "t=[]\n",
    "for i in test.대여시간:\n",
    "    i=str(i)\n",
    "    if len(i)==1:\n",
    "        t.append('0'+i)\n",
    "    else :\n",
    "        t.append(i)\n",
    "\n",
    "test['대여시간']=t\n",
    "test"
   ]
  },
  {
   "cell_type": "code",
   "execution_count": 8,
   "id": "7169d734",
   "metadata": {},
   "outputs": [],
   "source": [
    "test['시간대']=['출/퇴근' if i=='07' or i=='08' or i=='09' or i=='17' or i=='18' or i=='19' else '출/퇴근 외' for i in test['대여시간']]"
   ]
  },
  {
   "cell_type": "code",
   "execution_count": 9,
   "id": "986a044b",
   "metadata": {},
   "outputs": [],
   "source": [
    "test.fillna('미기입',inplace=True)"
   ]
  },
  {
   "cell_type": "code",
   "execution_count": 10,
   "id": "9da3c151",
   "metadata": {},
   "outputs": [],
   "source": [
    "a=test['성별']"
   ]
  },
  {
   "cell_type": "code",
   "execution_count": 11,
   "id": "fac623e4",
   "metadata": {},
   "outputs": [],
   "source": [
    "b=[i.upper() for i in a]"
   ]
  },
  {
   "cell_type": "code",
   "execution_count": 12,
   "id": "f7ecede4",
   "metadata": {},
   "outputs": [],
   "source": [
    "test['성별']=b"
   ]
  },
  {
   "cell_type": "code",
   "execution_count": 13,
   "id": "3abfb75b",
   "metadata": {},
   "outputs": [],
   "source": [
    "test.to_csv('data/test0823.csv')"
   ]
  },
  {
   "cell_type": "markdown",
   "id": "a3ba9237",
   "metadata": {},
   "source": [
    "## 성별 이용건수"
   ]
  },
  {
   "cell_type": "code",
   "execution_count": 110,
   "id": "b42d6a0b",
   "metadata": {},
   "outputs": [],
   "source": [
    "test=pd.read_csv('data/test0823.csv',index_col=0)"
   ]
  },
  {
   "cell_type": "code",
   "execution_count": 71,
   "id": "65dfc47e",
   "metadata": {},
   "outputs": [],
   "source": [
    "sex=pd.pivot_table(test,index=['연령대코드','성별'],values='이용건수',aggfunc='sum')"
   ]
  },
  {
   "cell_type": "code",
   "execution_count": 72,
   "id": "51da0833",
   "metadata": {},
   "outputs": [
    {
     "data": {
      "text/html": [
       "<div>\n",
       "<style scoped>\n",
       "    .dataframe tbody tr th:only-of-type {\n",
       "        vertical-align: middle;\n",
       "    }\n",
       "\n",
       "    .dataframe tbody tr th {\n",
       "        vertical-align: top;\n",
       "    }\n",
       "\n",
       "    .dataframe thead th {\n",
       "        text-align: right;\n",
       "    }\n",
       "</style>\n",
       "<table border=\"1\" class=\"dataframe\">\n",
       "  <thead>\n",
       "    <tr style=\"text-align: right;\">\n",
       "      <th></th>\n",
       "      <th></th>\n",
       "      <th>이용건수</th>\n",
       "    </tr>\n",
       "    <tr>\n",
       "      <th>연령대코드</th>\n",
       "      <th>성별</th>\n",
       "      <th></th>\n",
       "    </tr>\n",
       "  </thead>\n",
       "  <tbody>\n",
       "    <tr>\n",
       "      <th rowspan=\"3\" valign=\"top\">20대</th>\n",
       "      <th>F</th>\n",
       "      <td>2100239</td>\n",
       "    </tr>\n",
       "    <tr>\n",
       "      <th>M</th>\n",
       "      <td>2396664</td>\n",
       "    </tr>\n",
       "    <tr>\n",
       "      <th>미기입</th>\n",
       "      <td>6188092</td>\n",
       "    </tr>\n",
       "    <tr>\n",
       "      <th rowspan=\"3\" valign=\"top\">30대</th>\n",
       "      <th>F</th>\n",
       "      <td>1071582</td>\n",
       "    </tr>\n",
       "    <tr>\n",
       "      <th>M</th>\n",
       "      <td>1768193</td>\n",
       "    </tr>\n",
       "    <tr>\n",
       "      <th>미기입</th>\n",
       "      <td>2495780</td>\n",
       "    </tr>\n",
       "    <tr>\n",
       "      <th rowspan=\"3\" valign=\"top\">40대</th>\n",
       "      <th>F</th>\n",
       "      <td>553687</td>\n",
       "    </tr>\n",
       "    <tr>\n",
       "      <th>M</th>\n",
       "      <td>1193598</td>\n",
       "    </tr>\n",
       "    <tr>\n",
       "      <th>미기입</th>\n",
       "      <td>1624723</td>\n",
       "    </tr>\n",
       "    <tr>\n",
       "      <th rowspan=\"3\" valign=\"top\">50대</th>\n",
       "      <th>F</th>\n",
       "      <td>301393</td>\n",
       "    </tr>\n",
       "    <tr>\n",
       "      <th>M</th>\n",
       "      <td>666692</td>\n",
       "    </tr>\n",
       "    <tr>\n",
       "      <th>미기입</th>\n",
       "      <td>960497</td>\n",
       "    </tr>\n",
       "    <tr>\n",
       "      <th rowspan=\"3\" valign=\"top\">60대</th>\n",
       "      <th>F</th>\n",
       "      <td>59346</td>\n",
       "    </tr>\n",
       "    <tr>\n",
       "      <th>M</th>\n",
       "      <td>196209</td>\n",
       "    </tr>\n",
       "    <tr>\n",
       "      <th>미기입</th>\n",
       "      <td>235937</td>\n",
       "    </tr>\n",
       "    <tr>\n",
       "      <th rowspan=\"3\" valign=\"top\">70대~</th>\n",
       "      <th>F</th>\n",
       "      <td>24083</td>\n",
       "    </tr>\n",
       "    <tr>\n",
       "      <th>M</th>\n",
       "      <td>33558</td>\n",
       "    </tr>\n",
       "    <tr>\n",
       "      <th>미기입</th>\n",
       "      <td>29646</td>\n",
       "    </tr>\n",
       "    <tr>\n",
       "      <th rowspan=\"3\" valign=\"top\">~10대</th>\n",
       "      <th>F</th>\n",
       "      <td>185674</td>\n",
       "    </tr>\n",
       "    <tr>\n",
       "      <th>M</th>\n",
       "      <td>342167</td>\n",
       "    </tr>\n",
       "    <tr>\n",
       "      <th>미기입</th>\n",
       "      <td>843987</td>\n",
       "    </tr>\n",
       "  </tbody>\n",
       "</table>\n",
       "</div>"
      ],
      "text/plain": [
       "              이용건수\n",
       "연령대코드 성별          \n",
       "20대   F    2100239\n",
       "      M    2396664\n",
       "      미기입  6188092\n",
       "30대   F    1071582\n",
       "      M    1768193\n",
       "      미기입  2495780\n",
       "40대   F     553687\n",
       "      M    1193598\n",
       "      미기입  1624723\n",
       "50대   F     301393\n",
       "      M     666692\n",
       "      미기입   960497\n",
       "60대   F      59346\n",
       "      M     196209\n",
       "      미기입   235937\n",
       "70대~  F      24083\n",
       "      M      33558\n",
       "      미기입    29646\n",
       "~10대  F     185674\n",
       "      M     342167\n",
       "      미기입   843987"
      ]
     },
     "execution_count": 72,
     "metadata": {},
     "output_type": "execute_result"
    }
   ],
   "source": [
    "sex"
   ]
  },
  {
   "cell_type": "code",
   "execution_count": 80,
   "id": "22f11cd9",
   "metadata": {},
   "outputs": [],
   "source": [
    "sex2=sex.reset_index()"
   ]
  },
  {
   "cell_type": "code",
   "execution_count": 74,
   "id": "593f0d61",
   "metadata": {},
   "outputs": [
    {
     "data": {
      "text/plain": [
       "<Figure size 720x432 with 0 Axes>"
      ]
     },
     "execution_count": 74,
     "metadata": {},
     "output_type": "execute_result"
    },
    {
     "data": {
      "text/plain": [
       "<AxesSubplot:xlabel='연령대코드', ylabel='이용건수'>"
      ]
     },
     "execution_count": 74,
     "metadata": {},
     "output_type": "execute_result"
    },
    {
     "data": {
      "text/plain": [
       "Text(0.5, 0, '연령대')"
      ]
     },
     "execution_count": 74,
     "metadata": {},
     "output_type": "execute_result"
    },
    {
     "data": {
      "image/png": "[encoded data removed]",
      "text/plain": [
       "<Figure size 720x432 with 1 Axes>"
      ]
     },
     "metadata": {
      "needs_background": "light"
     },
     "output_type": "display_data"
    }
   ],
   "source": [
    "plt.figure(figsize=(10,6))\n",
    "sns.lineplot(x='연령대코드',y='이용건수',hue='성별',data=sex2)\n",
    "plt.xlabel('연령대')"
   ]
  },
  {
   "cell_type": "code",
   "execution_count": 81,
   "id": "9824a185",
   "metadata": {},
   "outputs": [
    {
     "data": {
      "text/html": [
       "<div>\n",
       "<style scoped>\n",
       "    .dataframe tbody tr th:only-of-type {\n",
       "        vertical-align: middle;\n",
       "    }\n",
       "\n",
       "    .dataframe tbody tr th {\n",
       "        vertical-align: top;\n",
       "    }\n",
       "\n",
       "    .dataframe thead th {\n",
       "        text-align: right;\n",
       "    }\n",
       "</style>\n",
       "<table border=\"1\" class=\"dataframe\">\n",
       "  <thead>\n",
       "    <tr style=\"text-align: right;\">\n",
       "      <th></th>\n",
       "      <th>연령대코드</th>\n",
       "      <th>성별</th>\n",
       "      <th>이용건수</th>\n",
       "    </tr>\n",
       "  </thead>\n",
       "  <tbody>\n",
       "    <tr>\n",
       "      <th>0</th>\n",
       "      <td>20대</td>\n",
       "      <td>F</td>\n",
       "      <td>2100239</td>\n",
       "    </tr>\n",
       "    <tr>\n",
       "      <th>1</th>\n",
       "      <td>20대</td>\n",
       "      <td>M</td>\n",
       "      <td>2396664</td>\n",
       "    </tr>\n",
       "    <tr>\n",
       "      <th>3</th>\n",
       "      <td>30대</td>\n",
       "      <td>F</td>\n",
       "      <td>1071582</td>\n",
       "    </tr>\n",
       "    <tr>\n",
       "      <th>4</th>\n",
       "      <td>30대</td>\n",
       "      <td>M</td>\n",
       "      <td>1768193</td>\n",
       "    </tr>\n",
       "    <tr>\n",
       "      <th>6</th>\n",
       "      <td>40대</td>\n",
       "      <td>F</td>\n",
       "      <td>553687</td>\n",
       "    </tr>\n",
       "    <tr>\n",
       "      <th>7</th>\n",
       "      <td>40대</td>\n",
       "      <td>M</td>\n",
       "      <td>1193598</td>\n",
       "    </tr>\n",
       "    <tr>\n",
       "      <th>9</th>\n",
       "      <td>50대</td>\n",
       "      <td>F</td>\n",
       "      <td>301393</td>\n",
       "    </tr>\n",
       "    <tr>\n",
       "      <th>10</th>\n",
       "      <td>50대</td>\n",
       "      <td>M</td>\n",
       "      <td>666692</td>\n",
       "    </tr>\n",
       "    <tr>\n",
       "      <th>12</th>\n",
       "      <td>60대</td>\n",
       "      <td>F</td>\n",
       "      <td>59346</td>\n",
       "    </tr>\n",
       "    <tr>\n",
       "      <th>13</th>\n",
       "      <td>60대</td>\n",
       "      <td>M</td>\n",
       "      <td>196209</td>\n",
       "    </tr>\n",
       "    <tr>\n",
       "      <th>15</th>\n",
       "      <td>70대~</td>\n",
       "      <td>F</td>\n",
       "      <td>24083</td>\n",
       "    </tr>\n",
       "    <tr>\n",
       "      <th>16</th>\n",
       "      <td>70대~</td>\n",
       "      <td>M</td>\n",
       "      <td>33558</td>\n",
       "    </tr>\n",
       "    <tr>\n",
       "      <th>18</th>\n",
       "      <td>~10대</td>\n",
       "      <td>F</td>\n",
       "      <td>185674</td>\n",
       "    </tr>\n",
       "    <tr>\n",
       "      <th>19</th>\n",
       "      <td>~10대</td>\n",
       "      <td>M</td>\n",
       "      <td>342167</td>\n",
       "    </tr>\n",
       "  </tbody>\n",
       "</table>\n",
       "</div>"
      ],
      "text/plain": [
       "   연령대코드 성별     이용건수\n",
       "0    20대  F  2100239\n",
       "1    20대  M  2396664\n",
       "3    30대  F  1071582\n",
       "4    30대  M  1768193\n",
       "6    40대  F   553687\n",
       "7    40대  M  1193598\n",
       "9    50대  F   301393\n",
       "10   50대  M   666692\n",
       "12   60대  F    59346\n",
       "13   60대  M   196209\n",
       "15  70대~  F    24083\n",
       "16  70대~  M    33558\n",
       "18  ~10대  F   185674\n",
       "19  ~10대  M   342167"
      ]
     },
     "execution_count": 81,
     "metadata": {},
     "output_type": "execute_result"
    }
   ],
   "source": [
    "sex3=sex2[sex2['성별']!='미기입']\n",
    "sex3"
   ]
  },
  {
   "cell_type": "code",
   "execution_count": 105,
   "id": "e2427445",
   "metadata": {},
   "outputs": [
    {
     "data": {
      "text/html": [
       "<div>\n",
       "<style scoped>\n",
       "    .dataframe tbody tr th:only-of-type {\n",
       "        vertical-align: middle;\n",
       "    }\n",
       "\n",
       "    .dataframe tbody tr th {\n",
       "        vertical-align: top;\n",
       "    }\n",
       "\n",
       "    .dataframe thead th {\n",
       "        text-align: right;\n",
       "    }\n",
       "</style>\n",
       "<table border=\"1\" class=\"dataframe\">\n",
       "  <thead>\n",
       "    <tr style=\"text-align: right;\">\n",
       "      <th></th>\n",
       "      <th>연령대코드</th>\n",
       "      <th>성별</th>\n",
       "      <th>이용건수</th>\n",
       "      <th>연령/성별 이용비중</th>\n",
       "    </tr>\n",
       "  </thead>\n",
       "  <tbody>\n",
       "    <tr>\n",
       "      <th>0</th>\n",
       "      <td>20대</td>\n",
       "      <td>F</td>\n",
       "      <td>2100239</td>\n",
       "      <td>19.28</td>\n",
       "    </tr>\n",
       "    <tr>\n",
       "      <th>1</th>\n",
       "      <td>20대</td>\n",
       "      <td>M</td>\n",
       "      <td>2396664</td>\n",
       "      <td>22.00</td>\n",
       "    </tr>\n",
       "    <tr>\n",
       "      <th>3</th>\n",
       "      <td>30대</td>\n",
       "      <td>F</td>\n",
       "      <td>1071582</td>\n",
       "      <td>9.84</td>\n",
       "    </tr>\n",
       "    <tr>\n",
       "      <th>4</th>\n",
       "      <td>30대</td>\n",
       "      <td>M</td>\n",
       "      <td>1768193</td>\n",
       "      <td>16.23</td>\n",
       "    </tr>\n",
       "    <tr>\n",
       "      <th>6</th>\n",
       "      <td>40대</td>\n",
       "      <td>F</td>\n",
       "      <td>553687</td>\n",
       "      <td>5.08</td>\n",
       "    </tr>\n",
       "    <tr>\n",
       "      <th>7</th>\n",
       "      <td>40대</td>\n",
       "      <td>M</td>\n",
       "      <td>1193598</td>\n",
       "      <td>10.96</td>\n",
       "    </tr>\n",
       "    <tr>\n",
       "      <th>9</th>\n",
       "      <td>50대</td>\n",
       "      <td>F</td>\n",
       "      <td>301393</td>\n",
       "      <td>2.77</td>\n",
       "    </tr>\n",
       "    <tr>\n",
       "      <th>10</th>\n",
       "      <td>50대</td>\n",
       "      <td>M</td>\n",
       "      <td>666692</td>\n",
       "      <td>6.12</td>\n",
       "    </tr>\n",
       "    <tr>\n",
       "      <th>12</th>\n",
       "      <td>60대</td>\n",
       "      <td>F</td>\n",
       "      <td>59346</td>\n",
       "      <td>0.54</td>\n",
       "    </tr>\n",
       "    <tr>\n",
       "      <th>13</th>\n",
       "      <td>60대</td>\n",
       "      <td>M</td>\n",
       "      <td>196209</td>\n",
       "      <td>1.80</td>\n",
       "    </tr>\n",
       "    <tr>\n",
       "      <th>15</th>\n",
       "      <td>70대~</td>\n",
       "      <td>F</td>\n",
       "      <td>24083</td>\n",
       "      <td>0.22</td>\n",
       "    </tr>\n",
       "    <tr>\n",
       "      <th>16</th>\n",
       "      <td>70대~</td>\n",
       "      <td>M</td>\n",
       "      <td>33558</td>\n",
       "      <td>0.31</td>\n",
       "    </tr>\n",
       "    <tr>\n",
       "      <th>18</th>\n",
       "      <td>~10대</td>\n",
       "      <td>F</td>\n",
       "      <td>185674</td>\n",
       "      <td>1.70</td>\n",
       "    </tr>\n",
       "    <tr>\n",
       "      <th>19</th>\n",
       "      <td>~10대</td>\n",
       "      <td>M</td>\n",
       "      <td>342167</td>\n",
       "      <td>3.14</td>\n",
       "    </tr>\n",
       "  </tbody>\n",
       "</table>\n",
       "</div>"
      ],
      "text/plain": [
       "   연령대코드 성별     이용건수  연령/성별 이용비중\n",
       "0    20대  F  2100239       19.28\n",
       "1    20대  M  2396664       22.00\n",
       "3    30대  F  1071582        9.84\n",
       "4    30대  M  1768193       16.23\n",
       "6    40대  F   553687        5.08\n",
       "7    40대  M  1193598       10.96\n",
       "9    50대  F   301393        2.77\n",
       "10   50대  M   666692        6.12\n",
       "12   60대  F    59346        0.54\n",
       "13   60대  M   196209        1.80\n",
       "15  70대~  F    24083        0.22\n",
       "16  70대~  M    33558        0.31\n",
       "18  ~10대  F   185674        1.70\n",
       "19  ~10대  M   342167        3.14"
      ]
     },
     "execution_count": 105,
     "metadata": {},
     "output_type": "execute_result"
    }
   ],
   "source": [
    "sex3['연령/성별 이용비중']=(sex3['이용건수']/sex3['이용건수'].sum()*100).round(2)\n",
    "sex3"
   ]
  },
  {
   "cell_type": "code",
   "execution_count": 106,
   "id": "0090dc99",
   "metadata": {
    "scrolled": false
   },
   "outputs": [
    {
     "data": {
      "text/plain": [
       "<Figure size 720x432 with 0 Axes>"
      ]
     },
     "execution_count": 106,
     "metadata": {},
     "output_type": "execute_result"
    },
    {
     "data": {
      "text/plain": [
       "<AxesSubplot:xlabel='연령대코드', ylabel='이용건수'>"
      ]
     },
     "execution_count": 106,
     "metadata": {},
     "output_type": "execute_result"
    },
    {
     "data": {
      "text/plain": [
       "Text(0.5, 0, '연령대')"
      ]
     },
     "execution_count": 106,
     "metadata": {},
     "output_type": "execute_result"
    },
    {
     "data": {
      "image/png": "[encoded data removed]",
      "text/plain": [
       "<Figure size 720x432 with 1 Axes>"
      ]
     },
     "metadata": {
      "needs_background": "light"
     },
     "output_type": "display_data"
    }
   ],
   "source": [
    "# 연령대에 따른 성별 이용건수\n",
    "plt.figure(figsize=(10,6))\n",
    "sns.lineplot(x='연령대코드',y='이용건수',hue='성별',data=sex3)\n",
    "plt.xlabel('연령대')"
   ]
  },
  {
   "cell_type": "code",
   "execution_count": 109,
   "id": "651f4433",
   "metadata": {},
   "outputs": [
    {
     "data": {
      "text/html": [
       "<div>\n",
       "<style scoped>\n",
       "    .dataframe tbody tr th:only-of-type {\n",
       "        vertical-align: middle;\n",
       "    }\n",
       "\n",
       "    .dataframe tbody tr th {\n",
       "        vertical-align: top;\n",
       "    }\n",
       "\n",
       "    .dataframe thead th {\n",
       "        text-align: right;\n",
       "    }\n",
       "</style>\n",
       "<table border=\"1\" class=\"dataframe\">\n",
       "  <thead>\n",
       "    <tr style=\"text-align: right;\">\n",
       "      <th>성별</th>\n",
       "      <th>F</th>\n",
       "      <th>M</th>\n",
       "      <th>미기입</th>\n",
       "    </tr>\n",
       "    <tr>\n",
       "      <th>대여시간</th>\n",
       "      <th></th>\n",
       "      <th></th>\n",
       "      <th></th>\n",
       "    </tr>\n",
       "  </thead>\n",
       "  <tbody>\n",
       "    <tr>\n",
       "      <th>0</th>\n",
       "      <td>67593</td>\n",
       "      <td>217069</td>\n",
       "      <td>365492</td>\n",
       "    </tr>\n",
       "    <tr>\n",
       "      <th>1</th>\n",
       "      <td>41661</td>\n",
       "      <td>174322</td>\n",
       "      <td>280746</td>\n",
       "    </tr>\n",
       "    <tr>\n",
       "      <th>2</th>\n",
       "      <td>25947</td>\n",
       "      <td>122217</td>\n",
       "      <td>192320</td>\n",
       "    </tr>\n",
       "    <tr>\n",
       "      <th>3</th>\n",
       "      <td>16704</td>\n",
       "      <td>84474</td>\n",
       "      <td>131658</td>\n",
       "    </tr>\n",
       "    <tr>\n",
       "      <th>4</th>\n",
       "      <td>12778</td>\n",
       "      <td>58434</td>\n",
       "      <td>87093</td>\n",
       "    </tr>\n",
       "    <tr>\n",
       "      <th>5</th>\n",
       "      <td>19397</td>\n",
       "      <td>56562</td>\n",
       "      <td>89365</td>\n",
       "    </tr>\n",
       "    <tr>\n",
       "      <th>6</th>\n",
       "      <td>41442</td>\n",
       "      <td>113134</td>\n",
       "      <td>164451</td>\n",
       "    </tr>\n",
       "    <tr>\n",
       "      <th>7</th>\n",
       "      <td>119540</td>\n",
       "      <td>255249</td>\n",
       "      <td>386394</td>\n",
       "    </tr>\n",
       "    <tr>\n",
       "      <th>8</th>\n",
       "      <td>236110</td>\n",
       "      <td>375161</td>\n",
       "      <td>632959</td>\n",
       "    </tr>\n",
       "    <tr>\n",
       "      <th>9</th>\n",
       "      <td>154449</td>\n",
       "      <td>231112</td>\n",
       "      <td>402947</td>\n",
       "    </tr>\n",
       "    <tr>\n",
       "      <th>10</th>\n",
       "      <td>137701</td>\n",
       "      <td>196312</td>\n",
       "      <td>351968</td>\n",
       "    </tr>\n",
       "    <tr>\n",
       "      <th>11</th>\n",
       "      <td>166154</td>\n",
       "      <td>240947</td>\n",
       "      <td>422711</td>\n",
       "    </tr>\n",
       "    <tr>\n",
       "      <th>12</th>\n",
       "      <td>199643</td>\n",
       "      <td>276670</td>\n",
       "      <td>500766</td>\n",
       "    </tr>\n",
       "    <tr>\n",
       "      <th>13</th>\n",
       "      <td>220722</td>\n",
       "      <td>288330</td>\n",
       "      <td>556589</td>\n",
       "    </tr>\n",
       "    <tr>\n",
       "      <th>14</th>\n",
       "      <td>243881</td>\n",
       "      <td>307960</td>\n",
       "      <td>621785</td>\n",
       "    </tr>\n",
       "    <tr>\n",
       "      <th>15</th>\n",
       "      <td>268933</td>\n",
       "      <td>339506</td>\n",
       "      <td>697016</td>\n",
       "    </tr>\n",
       "    <tr>\n",
       "      <th>16</th>\n",
       "      <td>306384</td>\n",
       "      <td>385638</td>\n",
       "      <td>797419</td>\n",
       "    </tr>\n",
       "    <tr>\n",
       "      <th>17</th>\n",
       "      <td>378487</td>\n",
       "      <td>512367</td>\n",
       "      <td>1016235</td>\n",
       "    </tr>\n",
       "    <tr>\n",
       "      <th>18</th>\n",
       "      <td>450756</td>\n",
       "      <td>599549</td>\n",
       "      <td>1173516</td>\n",
       "    </tr>\n",
       "    <tr>\n",
       "      <th>19</th>\n",
       "      <td>331353</td>\n",
       "      <td>446665</td>\n",
       "      <td>893175</td>\n",
       "    </tr>\n",
       "    <tr>\n",
       "      <th>20</th>\n",
       "      <td>292549</td>\n",
       "      <td>389026</td>\n",
       "      <td>798238</td>\n",
       "    </tr>\n",
       "    <tr>\n",
       "      <th>21</th>\n",
       "      <td>256783</td>\n",
       "      <td>367171</td>\n",
       "      <td>743729</td>\n",
       "    </tr>\n",
       "    <tr>\n",
       "      <th>22</th>\n",
       "      <td>192472</td>\n",
       "      <td>316523</td>\n",
       "      <td>626415</td>\n",
       "    </tr>\n",
       "    <tr>\n",
       "      <th>23</th>\n",
       "      <td>114565</td>\n",
       "      <td>242683</td>\n",
       "      <td>445675</td>\n",
       "    </tr>\n",
       "  </tbody>\n",
       "</table>\n",
       "</div>"
      ],
      "text/plain": [
       "성별         F       M      미기입\n",
       "대여시간                         \n",
       "0      67593  217069   365492\n",
       "1      41661  174322   280746\n",
       "2      25947  122217   192320\n",
       "3      16704   84474   131658\n",
       "4      12778   58434    87093\n",
       "5      19397   56562    89365\n",
       "6      41442  113134   164451\n",
       "7     119540  255249   386394\n",
       "8     236110  375161   632959\n",
       "9     154449  231112   402947\n",
       "10    137701  196312   351968\n",
       "11    166154  240947   422711\n",
       "12    199643  276670   500766\n",
       "13    220722  288330   556589\n",
       "14    243881  307960   621785\n",
       "15    268933  339506   697016\n",
       "16    306384  385638   797419\n",
       "17    378487  512367  1016235\n",
       "18    450756  599549  1173516\n",
       "19    331353  446665   893175\n",
       "20    292549  389026   798238\n",
       "21    256783  367171   743729\n",
       "22    192472  316523   626415\n",
       "23    114565  242683   445675"
      ]
     },
     "execution_count": 109,
     "metadata": {},
     "output_type": "execute_result"
    }
   ],
   "source": [
    "gender=pd.pivot_table(test,index='대여시간',columns='성별',values='이용건수',aggfunc='sum')\n",
    "gender"
   ]
  },
  {
   "cell_type": "code",
   "execution_count": 86,
   "id": "cce5defa",
   "metadata": {},
   "outputs": [
    {
     "data": {
      "text/plain": [
       "<AxesSubplot:xlabel='대여시간'>"
      ]
     },
     "execution_count": 86,
     "metadata": {},
     "output_type": "execute_result"
    },
    {
     "data": {
      "image/png": "[encoded data removed]",
      "text/plain": [
       "<Figure size 720x432 with 1 Axes>"
      ]
     },
     "metadata": {
      "needs_background": "light"
     },
     "output_type": "display_data"
    }
   ],
   "source": [
    "# 대여시간에 따른 성별 이용건수\n",
    "gender2=gender[['M','F']]\n",
    "gender2.plot(figsize=(10,6))"
   ]
  },
  {
   "cell_type": "markdown",
   "id": "bad1271f",
   "metadata": {},
   "source": [
    "## 시간대/연령대별"
   ]
  },
  {
   "cell_type": "code",
   "execution_count": 87,
   "id": "b2c37e0b",
   "metadata": {},
   "outputs": [],
   "source": [
    "pt=pd.pivot_table(test,index=['연령대코드'],values='이용건수',aggfunc='sum')"
   ]
  },
  {
   "cell_type": "code",
   "execution_count": 88,
   "id": "f7b5414e",
   "metadata": {},
   "outputs": [],
   "source": [
    "# 연령별 이용건수 비율\n",
    "prob=(pt/pt.sum()*100).round(2)\n",
    "pt['연령별 이용건수 비중']=prob"
   ]
  },
  {
   "cell_type": "code",
   "execution_count": 89,
   "id": "d4648f74",
   "metadata": {},
   "outputs": [
    {
     "data": {
      "text/html": [
       "<div>\n",
       "<style scoped>\n",
       "    .dataframe tbody tr th:only-of-type {\n",
       "        vertical-align: middle;\n",
       "    }\n",
       "\n",
       "    .dataframe tbody tr th {\n",
       "        vertical-align: top;\n",
       "    }\n",
       "\n",
       "    .dataframe thead th {\n",
       "        text-align: right;\n",
       "    }\n",
       "</style>\n",
       "<table border=\"1\" class=\"dataframe\">\n",
       "  <thead>\n",
       "    <tr style=\"text-align: right;\">\n",
       "      <th></th>\n",
       "      <th>이용건수</th>\n",
       "      <th>연령별 이용건수 비중</th>\n",
       "    </tr>\n",
       "    <tr>\n",
       "      <th>연령대코드</th>\n",
       "      <th></th>\n",
       "      <th></th>\n",
       "    </tr>\n",
       "  </thead>\n",
       "  <tbody>\n",
       "    <tr>\n",
       "      <th>20대</th>\n",
       "      <td>10684995</td>\n",
       "      <td>45.91</td>\n",
       "    </tr>\n",
       "    <tr>\n",
       "      <th>30대</th>\n",
       "      <td>5335555</td>\n",
       "      <td>22.93</td>\n",
       "    </tr>\n",
       "    <tr>\n",
       "      <th>40대</th>\n",
       "      <td>3372008</td>\n",
       "      <td>14.49</td>\n",
       "    </tr>\n",
       "    <tr>\n",
       "      <th>50대</th>\n",
       "      <td>1928582</td>\n",
       "      <td>8.29</td>\n",
       "    </tr>\n",
       "    <tr>\n",
       "      <th>60대</th>\n",
       "      <td>491492</td>\n",
       "      <td>2.11</td>\n",
       "    </tr>\n",
       "    <tr>\n",
       "      <th>70대~</th>\n",
       "      <td>87287</td>\n",
       "      <td>0.38</td>\n",
       "    </tr>\n",
       "    <tr>\n",
       "      <th>~10대</th>\n",
       "      <td>1371828</td>\n",
       "      <td>5.89</td>\n",
       "    </tr>\n",
       "  </tbody>\n",
       "</table>\n",
       "</div>"
      ],
      "text/plain": [
       "           이용건수  연령별 이용건수 비중\n",
       "연령대코드                       \n",
       "20대    10684995        45.91\n",
       "30대     5335555        22.93\n",
       "40대     3372008        14.49\n",
       "50대     1928582         8.29\n",
       "60대      491492         2.11\n",
       "70대~      87287         0.38\n",
       "~10대    1371828         5.89"
      ]
     },
     "execution_count": 89,
     "metadata": {},
     "output_type": "execute_result"
    }
   ],
   "source": [
    "pt"
   ]
  },
  {
   "cell_type": "code",
   "execution_count": 90,
   "id": "140477a5",
   "metadata": {},
   "outputs": [],
   "source": [
    "tt=pd.pivot_table(test,index=['연령대코드','시간대'],values='이용건수',aggfunc='sum').reset_index()"
   ]
  },
  {
   "cell_type": "code",
   "execution_count": 95,
   "id": "a432daa8",
   "metadata": {},
   "outputs": [],
   "source": [
    "tt['시간대/연령 이용비율']=(tt[['이용건수']]/tt[['이용건수']].sum()*100).round(2)"
   ]
  },
  {
   "cell_type": "code",
   "execution_count": 94,
   "id": "bf8c2170",
   "metadata": {
    "scrolled": true
   },
   "outputs": [],
   "source": [
    "tt['시간 당 이용건수']=(tt['이용건수']/pd.Series(([6,18]*7))).astype(int)"
   ]
  },
  {
   "cell_type": "code",
   "execution_count": 96,
   "id": "5b9166c9",
   "metadata": {},
   "outputs": [
    {
     "data": {
      "text/html": [
       "<div>\n",
       "<style scoped>\n",
       "    .dataframe tbody tr th:only-of-type {\n",
       "        vertical-align: middle;\n",
       "    }\n",
       "\n",
       "    .dataframe tbody tr th {\n",
       "        vertical-align: top;\n",
       "    }\n",
       "\n",
       "    .dataframe thead th {\n",
       "        text-align: right;\n",
       "    }\n",
       "</style>\n",
       "<table border=\"1\" class=\"dataframe\">\n",
       "  <thead>\n",
       "    <tr style=\"text-align: right;\">\n",
       "      <th></th>\n",
       "      <th>연령대코드</th>\n",
       "      <th>시간대</th>\n",
       "      <th>이용건수</th>\n",
       "      <th>시간대/연령 이용비율</th>\n",
       "      <th>시간 당 이용건수</th>\n",
       "    </tr>\n",
       "  </thead>\n",
       "  <tbody>\n",
       "    <tr>\n",
       "      <th>0</th>\n",
       "      <td>20대</td>\n",
       "      <td>출/퇴근</td>\n",
       "      <td>3691558</td>\n",
       "      <td>15.86</td>\n",
       "      <td>615259</td>\n",
       "    </tr>\n",
       "    <tr>\n",
       "      <th>1</th>\n",
       "      <td>20대</td>\n",
       "      <td>출/퇴근 외</td>\n",
       "      <td>6993437</td>\n",
       "      <td>30.05</td>\n",
       "      <td>388524</td>\n",
       "    </tr>\n",
       "    <tr>\n",
       "      <th>2</th>\n",
       "      <td>30대</td>\n",
       "      <td>출/퇴근</td>\n",
       "      <td>2228206</td>\n",
       "      <td>9.57</td>\n",
       "      <td>371367</td>\n",
       "    </tr>\n",
       "    <tr>\n",
       "      <th>3</th>\n",
       "      <td>30대</td>\n",
       "      <td>출/퇴근 외</td>\n",
       "      <td>3107349</td>\n",
       "      <td>13.35</td>\n",
       "      <td>172630</td>\n",
       "    </tr>\n",
       "    <tr>\n",
       "      <th>4</th>\n",
       "      <td>40대</td>\n",
       "      <td>출/퇴근</td>\n",
       "      <td>1400310</td>\n",
       "      <td>6.02</td>\n",
       "      <td>233385</td>\n",
       "    </tr>\n",
       "    <tr>\n",
       "      <th>5</th>\n",
       "      <td>40대</td>\n",
       "      <td>출/퇴근 외</td>\n",
       "      <td>1971698</td>\n",
       "      <td>8.47</td>\n",
       "      <td>109538</td>\n",
       "    </tr>\n",
       "    <tr>\n",
       "      <th>6</th>\n",
       "      <td>50대</td>\n",
       "      <td>출/퇴근</td>\n",
       "      <td>698107</td>\n",
       "      <td>3.00</td>\n",
       "      <td>116351</td>\n",
       "    </tr>\n",
       "    <tr>\n",
       "      <th>7</th>\n",
       "      <td>50대</td>\n",
       "      <td>출/퇴근 외</td>\n",
       "      <td>1230475</td>\n",
       "      <td>5.29</td>\n",
       "      <td>68359</td>\n",
       "    </tr>\n",
       "    <tr>\n",
       "      <th>8</th>\n",
       "      <td>60대</td>\n",
       "      <td>출/퇴근</td>\n",
       "      <td>153518</td>\n",
       "      <td>0.66</td>\n",
       "      <td>25586</td>\n",
       "    </tr>\n",
       "    <tr>\n",
       "      <th>9</th>\n",
       "      <td>60대</td>\n",
       "      <td>출/퇴근 외</td>\n",
       "      <td>337974</td>\n",
       "      <td>1.45</td>\n",
       "      <td>18776</td>\n",
       "    </tr>\n",
       "    <tr>\n",
       "      <th>10</th>\n",
       "      <td>70대~</td>\n",
       "      <td>출/퇴근</td>\n",
       "      <td>26841</td>\n",
       "      <td>0.12</td>\n",
       "      <td>4473</td>\n",
       "    </tr>\n",
       "    <tr>\n",
       "      <th>11</th>\n",
       "      <td>70대~</td>\n",
       "      <td>출/퇴근 외</td>\n",
       "      <td>60446</td>\n",
       "      <td>0.26</td>\n",
       "      <td>3358</td>\n",
       "    </tr>\n",
       "    <tr>\n",
       "      <th>12</th>\n",
       "      <td>~10대</td>\n",
       "      <td>출/퇴근</td>\n",
       "      <td>397484</td>\n",
       "      <td>1.71</td>\n",
       "      <td>66247</td>\n",
       "    </tr>\n",
       "    <tr>\n",
       "      <th>13</th>\n",
       "      <td>~10대</td>\n",
       "      <td>출/퇴근 외</td>\n",
       "      <td>974344</td>\n",
       "      <td>4.19</td>\n",
       "      <td>54130</td>\n",
       "    </tr>\n",
       "  </tbody>\n",
       "</table>\n",
       "</div>"
      ],
      "text/plain": [
       "   연령대코드     시간대     이용건수  시간대/연령 이용비율  시간 당 이용건수\n",
       "0    20대    출/퇴근  3691558        15.86     615259\n",
       "1    20대  출/퇴근 외  6993437        30.05     388524\n",
       "2    30대    출/퇴근  2228206         9.57     371367\n",
       "3    30대  출/퇴근 외  3107349        13.35     172630\n",
       "4    40대    출/퇴근  1400310         6.02     233385\n",
       "5    40대  출/퇴근 외  1971698         8.47     109538\n",
       "6    50대    출/퇴근   698107         3.00     116351\n",
       "7    50대  출/퇴근 외  1230475         5.29      68359\n",
       "8    60대    출/퇴근   153518         0.66      25586\n",
       "9    60대  출/퇴근 외   337974         1.45      18776\n",
       "10  70대~    출/퇴근    26841         0.12       4473\n",
       "11  70대~  출/퇴근 외    60446         0.26       3358\n",
       "12  ~10대    출/퇴근   397484         1.71      66247\n",
       "13  ~10대  출/퇴근 외   974344         4.19      54130"
      ]
     },
     "execution_count": 96,
     "metadata": {},
     "output_type": "execute_result"
    }
   ],
   "source": [
    "tt"
   ]
  },
  {
   "cell_type": "code",
   "execution_count": 97,
   "id": "3671f123",
   "metadata": {
    "scrolled": false
   },
   "outputs": [
    {
     "data": {
      "text/plain": [
       "<Figure size 720x432 with 0 Axes>"
      ]
     },
     "execution_count": 97,
     "metadata": {},
     "output_type": "execute_result"
    },
    {
     "data": {
      "text/plain": [
       "<AxesSubplot:xlabel='연령대코드', ylabel='시간 당 이용건수'>"
      ]
     },
     "execution_count": 97,
     "metadata": {},
     "output_type": "execute_result"
    },
    {
     "data": {
      "text/plain": [
       "Text(0.5, 0, '연령대')"
      ]
     },
     "execution_count": 97,
     "metadata": {},
     "output_type": "execute_result"
    },
    {
     "data": {
      "image/png": "[encoded data removed]",
      "text/plain": [
       "<Figure size 720x432 with 1 Axes>"
      ]
     },
     "metadata": {
      "needs_background": "light"
     },
     "output_type": "display_data"
    }
   ],
   "source": [
    "plt.figure(figsize=(10,6))\n",
    "sns.lineplot(x='연령대코드',y='시간 당 이용건수',hue='시간대',data=tt)\n",
    "plt.xlabel('연령대')"
   ]
  },
  {
   "cell_type": "code",
   "execution_count": 80,
   "id": "9a95bafe",
   "metadata": {},
   "outputs": [],
   "source": [
    "tt2=tt"
   ]
  },
  {
   "cell_type": "code",
   "execution_count": 81,
   "id": "dd6b39cc",
   "metadata": {},
   "outputs": [],
   "source": [
    "tt2['연령대코드']=['10대 이전' if i=='~10대' else i for i in tt['연령대코드']]"
   ]
  },
  {
   "cell_type": "code",
   "execution_count": 82,
   "id": "6106c7c5",
   "metadata": {},
   "outputs": [],
   "source": [
    "tt2=tt2.sort_values('연령대코드')"
   ]
  },
  {
   "cell_type": "code",
   "execution_count": 86,
   "id": "43b23d46",
   "metadata": {},
   "outputs": [
    {
     "data": {
      "text/plain": [
       "<Figure size 720x432 with 0 Axes>"
      ]
     },
     "execution_count": 86,
     "metadata": {},
     "output_type": "execute_result"
    },
    {
     "data": {
      "text/plain": [
       "<AxesSubplot:xlabel='연령대코드', ylabel='시간 당 이용건수'>"
      ]
     },
     "execution_count": 86,
     "metadata": {},
     "output_type": "execute_result"
    },
    {
     "data": {
      "text/plain": [
       "Text(0, 0.5, '시간 당 이용건수')"
      ]
     },
     "execution_count": 86,
     "metadata": {},
     "output_type": "execute_result"
    },
    {
     "data": {
      "text/plain": [
       "Text(0.5, 0, '연령대')"
      ]
     },
     "execution_count": 86,
     "metadata": {},
     "output_type": "execute_result"
    },
    {
     "data": {
      "image/png": "[encoded data removed]",
      "text/plain": [
       "<Figure size 720x432 with 1 Axes>"
      ]
     },
     "metadata": {
      "needs_background": "light"
     },
     "output_type": "display_data"
    }
   ],
   "source": [
    "plt.figure(figsize=(10,6))\n",
    "sns.lineplot(x='연령대코드',y='시간 당 이용건수',hue='시간대',data=tt2)\n",
    "plt.ylabel('시간 당 이용건수')\n",
    "plt.xlabel('연령대')"
   ]
  },
  {
   "cell_type": "code",
   "execution_count": 111,
   "id": "371622ad",
   "metadata": {},
   "outputs": [
    {
     "data": {
      "text/html": [
       "<div>\n",
       "<style scoped>\n",
       "    .dataframe tbody tr th:only-of-type {\n",
       "        vertical-align: middle;\n",
       "    }\n",
       "\n",
       "    .dataframe tbody tr th {\n",
       "        vertical-align: top;\n",
       "    }\n",
       "\n",
       "    .dataframe thead th {\n",
       "        text-align: right;\n",
       "    }\n",
       "</style>\n",
       "<table border=\"1\" class=\"dataframe\">\n",
       "  <thead>\n",
       "    <tr style=\"text-align: right;\">\n",
       "      <th>연령대코드</th>\n",
       "      <th>20대</th>\n",
       "      <th>30대</th>\n",
       "      <th>40대</th>\n",
       "      <th>50대</th>\n",
       "      <th>60대</th>\n",
       "      <th>70대~</th>\n",
       "      <th>~10대</th>\n",
       "    </tr>\n",
       "    <tr>\n",
       "      <th>대여시간</th>\n",
       "      <th></th>\n",
       "      <th></th>\n",
       "      <th></th>\n",
       "      <th></th>\n",
       "      <th></th>\n",
       "      <th></th>\n",
       "      <th></th>\n",
       "    </tr>\n",
       "  </thead>\n",
       "  <tbody>\n",
       "    <tr>\n",
       "      <th>0</th>\n",
       "      <td>343585</td>\n",
       "      <td>107050</td>\n",
       "      <td>63135</td>\n",
       "      <td>58262</td>\n",
       "      <td>16528</td>\n",
       "      <td>2280</td>\n",
       "      <td>59314</td>\n",
       "    </tr>\n",
       "    <tr>\n",
       "      <th>1</th>\n",
       "      <td>235345</td>\n",
       "      <td>73643</td>\n",
       "      <td>58360</td>\n",
       "      <td>66709</td>\n",
       "      <td>20557</td>\n",
       "      <td>2540</td>\n",
       "      <td>39575</td>\n",
       "    </tr>\n",
       "    <tr>\n",
       "      <th>2</th>\n",
       "      <td>152502</td>\n",
       "      <td>46509</td>\n",
       "      <td>43529</td>\n",
       "      <td>54673</td>\n",
       "      <td>17721</td>\n",
       "      <td>1939</td>\n",
       "      <td>23611</td>\n",
       "    </tr>\n",
       "    <tr>\n",
       "      <th>3</th>\n",
       "      <td>94952</td>\n",
       "      <td>31563</td>\n",
       "      <td>33549</td>\n",
       "      <td>42242</td>\n",
       "      <td>14017</td>\n",
       "      <td>1450</td>\n",
       "      <td>15063</td>\n",
       "    </tr>\n",
       "    <tr>\n",
       "      <th>4</th>\n",
       "      <td>61917</td>\n",
       "      <td>23561</td>\n",
       "      <td>24898</td>\n",
       "      <td>28398</td>\n",
       "      <td>9186</td>\n",
       "      <td>822</td>\n",
       "      <td>9523</td>\n",
       "    </tr>\n",
       "    <tr>\n",
       "      <th>5</th>\n",
       "      <td>60592</td>\n",
       "      <td>33718</td>\n",
       "      <td>29274</td>\n",
       "      <td>24814</td>\n",
       "      <td>8564</td>\n",
       "      <td>1296</td>\n",
       "      <td>7066</td>\n",
       "    </tr>\n",
       "    <tr>\n",
       "      <th>6</th>\n",
       "      <td>94621</td>\n",
       "      <td>75803</td>\n",
       "      <td>75610</td>\n",
       "      <td>46845</td>\n",
       "      <td>14483</td>\n",
       "      <td>2226</td>\n",
       "      <td>9439</td>\n",
       "    </tr>\n",
       "    <tr>\n",
       "      <th>7</th>\n",
       "      <td>221756</td>\n",
       "      <td>209831</td>\n",
       "      <td>176366</td>\n",
       "      <td>97656</td>\n",
       "      <td>20792</td>\n",
       "      <td>2997</td>\n",
       "      <td>31785</td>\n",
       "    </tr>\n",
       "    <tr>\n",
       "      <th>8</th>\n",
       "      <td>471201</td>\n",
       "      <td>366234</td>\n",
       "      <td>242871</td>\n",
       "      <td>115620</td>\n",
       "      <td>22970</td>\n",
       "      <td>4367</td>\n",
       "      <td>20967</td>\n",
       "    </tr>\n",
       "    <tr>\n",
       "      <th>9</th>\n",
       "      <td>323734</td>\n",
       "      <td>206524</td>\n",
       "      <td>133444</td>\n",
       "      <td>77363</td>\n",
       "      <td>21016</td>\n",
       "      <td>4601</td>\n",
       "      <td>21826</td>\n",
       "    </tr>\n",
       "    <tr>\n",
       "      <th>10</th>\n",
       "      <td>284941</td>\n",
       "      <td>164194</td>\n",
       "      <td>114785</td>\n",
       "      <td>69810</td>\n",
       "      <td>21701</td>\n",
       "      <td>4983</td>\n",
       "      <td>25567</td>\n",
       "    </tr>\n",
       "    <tr>\n",
       "      <th>11</th>\n",
       "      <td>346722</td>\n",
       "      <td>202960</td>\n",
       "      <td>143470</td>\n",
       "      <td>76957</td>\n",
       "      <td>22768</td>\n",
       "      <td>5257</td>\n",
       "      <td>31678</td>\n",
       "    </tr>\n",
       "    <tr>\n",
       "      <th>12</th>\n",
       "      <td>427110</td>\n",
       "      <td>237069</td>\n",
       "      <td>159221</td>\n",
       "      <td>84191</td>\n",
       "      <td>22726</td>\n",
       "      <td>4547</td>\n",
       "      <td>42215</td>\n",
       "    </tr>\n",
       "    <tr>\n",
       "      <th>13</th>\n",
       "      <td>483685</td>\n",
       "      <td>244728</td>\n",
       "      <td>164333</td>\n",
       "      <td>89409</td>\n",
       "      <td>24913</td>\n",
       "      <td>5239</td>\n",
       "      <td>53334</td>\n",
       "    </tr>\n",
       "    <tr>\n",
       "      <th>14</th>\n",
       "      <td>548040</td>\n",
       "      <td>256050</td>\n",
       "      <td>174727</td>\n",
       "      <td>94187</td>\n",
       "      <td>27545</td>\n",
       "      <td>5752</td>\n",
       "      <td>67325</td>\n",
       "    </tr>\n",
       "    <tr>\n",
       "      <th>15</th>\n",
       "      <td>610040</td>\n",
       "      <td>277618</td>\n",
       "      <td>190677</td>\n",
       "      <td>105733</td>\n",
       "      <td>30329</td>\n",
       "      <td>6257</td>\n",
       "      <td>84801</td>\n",
       "    </tr>\n",
       "    <tr>\n",
       "      <th>16</th>\n",
       "      <td>689128</td>\n",
       "      <td>321094</td>\n",
       "      <td>218384</td>\n",
       "      <td>122213</td>\n",
       "      <td>31621</td>\n",
       "      <td>6502</td>\n",
       "      <td>100499</td>\n",
       "    </tr>\n",
       "    <tr>\n",
       "      <th>17</th>\n",
       "      <td>862351</td>\n",
       "      <td>453025</td>\n",
       "      <td>291826</td>\n",
       "      <td>150816</td>\n",
       "      <td>34719</td>\n",
       "      <td>6293</td>\n",
       "      <td>108059</td>\n",
       "    </tr>\n",
       "    <tr>\n",
       "      <th>18</th>\n",
       "      <td>1009409</td>\n",
       "      <td>582733</td>\n",
       "      <td>334823</td>\n",
       "      <td>152351</td>\n",
       "      <td>30589</td>\n",
       "      <td>4987</td>\n",
       "      <td>108929</td>\n",
       "    </tr>\n",
       "    <tr>\n",
       "      <th>19</th>\n",
       "      <td>803107</td>\n",
       "      <td>409859</td>\n",
       "      <td>220980</td>\n",
       "      <td>104301</td>\n",
       "      <td>23432</td>\n",
       "      <td>3596</td>\n",
       "      <td>105918</td>\n",
       "    </tr>\n",
       "    <tr>\n",
       "      <th>20</th>\n",
       "      <td>750679</td>\n",
       "      <td>340931</td>\n",
       "      <td>170800</td>\n",
       "      <td>86979</td>\n",
       "      <td>17949</td>\n",
       "      <td>3070</td>\n",
       "      <td>109405</td>\n",
       "    </tr>\n",
       "    <tr>\n",
       "      <th>21</th>\n",
       "      <td>724903</td>\n",
       "      <td>297217</td>\n",
       "      <td>139099</td>\n",
       "      <td>77140</td>\n",
       "      <td>15245</td>\n",
       "      <td>2512</td>\n",
       "      <td>111567</td>\n",
       "    </tr>\n",
       "    <tr>\n",
       "      <th>22</th>\n",
       "      <td>625189</td>\n",
       "      <td>227362</td>\n",
       "      <td>100797</td>\n",
       "      <td>57787</td>\n",
       "      <td>11741</td>\n",
       "      <td>2072</td>\n",
       "      <td>110462</td>\n",
       "    </tr>\n",
       "    <tr>\n",
       "      <th>23</th>\n",
       "      <td>459486</td>\n",
       "      <td>146279</td>\n",
       "      <td>67050</td>\n",
       "      <td>44126</td>\n",
       "      <td>10380</td>\n",
       "      <td>1702</td>\n",
       "      <td>73900</td>\n",
       "    </tr>\n",
       "  </tbody>\n",
       "</table>\n",
       "</div>"
      ],
      "text/plain": [
       "연령대코드      20대     30대     40대     50대    60대  70대~    ~10대\n",
       "대여시간                                                       \n",
       "0       343585  107050   63135   58262  16528  2280   59314\n",
       "1       235345   73643   58360   66709  20557  2540   39575\n",
       "2       152502   46509   43529   54673  17721  1939   23611\n",
       "3        94952   31563   33549   42242  14017  1450   15063\n",
       "4        61917   23561   24898   28398   9186   822    9523\n",
       "5        60592   33718   29274   24814   8564  1296    7066\n",
       "6        94621   75803   75610   46845  14483  2226    9439\n",
       "7       221756  209831  176366   97656  20792  2997   31785\n",
       "8       471201  366234  242871  115620  22970  4367   20967\n",
       "9       323734  206524  133444   77363  21016  4601   21826\n",
       "10      284941  164194  114785   69810  21701  4983   25567\n",
       "11      346722  202960  143470   76957  22768  5257   31678\n",
       "12      427110  237069  159221   84191  22726  4547   42215\n",
       "13      483685  244728  164333   89409  24913  5239   53334\n",
       "14      548040  256050  174727   94187  27545  5752   67325\n",
       "15      610040  277618  190677  105733  30329  6257   84801\n",
       "16      689128  321094  218384  122213  31621  6502  100499\n",
       "17      862351  453025  291826  150816  34719  6293  108059\n",
       "18     1009409  582733  334823  152351  30589  4987  108929\n",
       "19      803107  409859  220980  104301  23432  3596  105918\n",
       "20      750679  340931  170800   86979  17949  3070  109405\n",
       "21      724903  297217  139099   77140  15245  2512  111567\n",
       "22      625189  227362  100797   57787  11741  2072  110462\n",
       "23      459486  146279   67050   44126  10380  1702   73900"
      ]
     },
     "execution_count": 111,
     "metadata": {},
     "output_type": "execute_result"
    }
   ],
   "source": [
    "age=pd.pivot_table(test,index='대여시간',columns='연령대코드',values='이용건수',aggfunc='sum')\n",
    "age"
   ]
  },
  {
   "cell_type": "code",
   "execution_count": 99,
   "id": "6649efd7",
   "metadata": {
    "scrolled": false
   },
   "outputs": [
    {
     "data": {
      "text/plain": [
       "<AxesSubplot:xlabel='대여시간'>"
      ]
     },
     "execution_count": 99,
     "metadata": {},
     "output_type": "execute_result"
    },
    {
     "data": {
      "image/png": "[encoded data removed]",
      "text/plain": [
       "<Figure size 720x432 with 1 Axes>"
      ]
     },
     "metadata": {
      "needs_background": "light"
     },
     "output_type": "display_data"
    }
   ],
   "source": [
    "age.plot(figsize=(10,6))"
   ]
  }
 ],
 "metadata": {
  "kernelspec": {
   "display_name": "Python 3 (ipykernel)",
   "language": "python",
   "name": "python3"
  },
  "language_info": {
   "codemirror_mode": {
    "name": "ipython",
    "version": 3
   },
   "file_extension": ".py",
   "mimetype": "text/x-python",
   "name": "python",
   "nbconvert_exporter": "python",
   "pygments_lexer": "ipython3",
   "version": "3.9.12"
  }
 },
 "nbformat": 4,
 "nbformat_minor": 5
}
